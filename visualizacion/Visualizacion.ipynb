{
 "cells": [
  {
   "cell_type": "markdown",
   "metadata": {},
   "source": [
    "# Introducción\n",
    "\n",
    "Los datos sobre nacimiento provienen de las estadísticas realizadas por el INEC, en el cual se refleja la frecuencia e intensidad en que ocurren los nacimientos en el país durante el año del 2018. Por otra parte, es posible conocer los perfiles de los niños, así como los datos propios del nacimiento. \n",
    "\n",
    "Las variables que son proporcionadas nos permiten, crear indicadores como lo son la tasa global de fecundidad, la tasa bruta de natalidad, así como realizar las estimaciones de población. \n",
    "\n",
    "Por tanto, se buscó predecir cual es el peso y la altura con la cual nace un bebe, basándose en las características que se arrojaron en las estadísticas. \n",
    "\n",
    "Cabe señalar, que los datos ingresado en el 2017, son los que se presentan en nuestro grupo de datos llamado “Nacimientos 2018”, pues busca tener los datos año con año, ya que para el 2017 existió un rezago con las estadísticas y se había utilizado los datos de los últimos 10 años.\n",
    "\n",
    "Según la bibliotéca Nacional de Medicina de los EE.UU, que cuando un bebé es pequeño se le va a considerar que pesa menos de 2.5 kg (5.5 libras) y un bebé grande al de más de 4 kg (8.8 libras).\n",
    "\n",
    "Determinar el peso de un bebé previo a nacer nos podria indicar un escenario previo al cual prepararnos, por ejemplo cuando un bebé nace bajo peso puede indicar que es demasiado pequeño, que nació antes de tiempo (prematuro) o ambas cosas. Esto puede deberse a muchas causas; como problemas de salud de la mamá, factores genéticos, problemas con la placenta o que la madre haya usado drogas durante el embarazo.\n",
    "\n",
    "    \"Algunos bebés de bajo peso pueden estar a riesgo de algunos problemas de salud. Unos pueden enfermarse o desarrollar infecciones en los primeros días de vida. Otros pueden sufrir problemas a largo plazo como retraso en el desarrollo motriz o social o problemas de aprendizaje. \n",
    "\n",
    "    A su vez, los bebés que nacieron con demasiado peso son grandes quizás porque sus padres lo son o porque la madre tuvo diabetes durante el embarazo. Estos bebés están a un mayor riesgo de lesiones al nacer y problemas con el azúcar en la sangre\" (Biblioteca nacional de mediciona de los EE.UU)"
   ]
  },
  {
   "cell_type": "markdown",
   "metadata": {},
   "source": [
    "# Objetivo\n",
    "\n",
    "## A. Objetivo General\n",
    "1. Predecir cual es el peso y la altura con la cual nace un bebe.\n",
    "\n",
    "## B. Objetivo Especifico\n",
    "1. Eliminar las variables inecesarias la tabla de datos.\n",
    "2. Explorar los datos.\n",
    "3. Establecer dos grupos datos los cuales uno es de entrenamiento y otro para pruebas.\n",
    "4. Determinar los valeres de peso y altura por medio de un algoritmo de predicción multi-etiqueta"
   ]
  },
  {
   "cell_type": "markdown",
   "metadata": {},
   "source": [
    "# Descripción de los datos \n",
    "\n",
    "El **titulo** que recibe esta tabla de datos es, \"Costa Rica: Total Nacimientos 2017 - 2018, Nacimientos ocurridos e inscritos en el periodo 2017 - 2018\", sin embargo se establece un **subtitulo** denominado, \"Nacimientos ocurridos e inscritos en el periodo 2018\"\n",
    "\n",
    "Estas tablas de datos del INEC, en Costa Rica esta a cargo de la Unidad de Estadísticas Demográficas (UED) que pertenece al Área de Censos y Encuestas del Instituto Nacional de Estadística y Censos.\n",
    "\n",
    "Dado que lo documentado es una estadística basada en registros administrativos es importante generar una estrategia de cuación para asi tener mejores indicadores de calidad, en los siguientes dos parrafos se mencionan algunas actividades que se llevan:\n",
    "\n",
    "- Se realizan cruces de variables importantes que identifiquen alguna relación que, aunque esté dentro de los rangos permitidos, el dato ya cruzado con otra variable pueda arrojar inconsistencias.\n",
    "\n",
    "- Durante el proceso de digitación el SISEVI se enlaza con la información del Tribunal Supremo de Elecciones por medio del número de cédula de la madre, y en su caso del padre, por lo que las variables: nombre de la madre, o del padre, edad, sexo y estado civil se cargan automáticamen\n",
    "\n",
    "Estos datos son recuperados en el mes de agosto del 2020, los cuales se encuentran en la pagina del [INEC](https://www.inec.go.cr/) bajo el nombre [Total Nacimientos 2017 - 2018](http://sistemas.inec.cr/pad5/index.php/catalog/254/get-microdata) en un formato **.sav** los cuales forman parte del Programa Acelerado de Datos INEC / Costa Rica., bajo los derechos reservados (El Instituto Nacional de Estadística y Censos (INEC) es el propietario de los derechos de la información metodológica y de las bases de datos aquí documentadas). La fecha de producción es **2020-05-27**\n",
    "\n",
    "Los archivos de extensión \".sav\", son archivos genericos utilizados comunmente para video juegos, no obtante tambien se utilizan para el almacenamiento aunque es poco común ya que en este caso cual corresponde a una extensión genérica de almacenamiento de datos, lo que significa que no están destinados para ser visto por todos.\n"
   ]
  },
  {
   "cell_type": "markdown",
   "metadata": {},
   "source": [
    "# Importación de librerias\n",
    "\n",
    "A continuacion se importan las librerias que se utilizaran a lo largo de nuestro proyecto."
   ]
  },
  {
   "cell_type": "code",
   "execution_count": 1,
   "metadata": {
    "colab": {},
    "colab_type": "code",
    "id": "kJyYIue6FVhh"
   },
   "outputs": [
    {
     "name": "stderr",
     "output_type": "stream",
     "text": [
      "/home/koki/snap/jupyter/common/lib/python3.7/site-packages/joblib/_multiprocessing_helpers.py:45: UserWarning: [Errno 13] Permission denied.  joblib will operate in serial mode\n",
      "  warnings.warn('%s.  joblib will operate in serial mode' % (e,))\n"
     ]
    }
   ],
   "source": [
    "import pandas as pd\n",
    "import pyreadstat\n",
    "import sklearn as skl \n",
    "import matplotlib.pyplot as plt\n",
    "import joblib\n",
    "import seaborn as sns\n",
    "import matplotlib"
   ]
  },
  {
   "cell_type": "markdown",
   "metadata": {},
   "source": [
    "Las siguientes son funciones especificas de la libreria `scikit learn`"
   ]
  },
  {
   "cell_type": "code",
   "execution_count": 2,
   "metadata": {
    "colab": {},
    "colab_type": "code",
    "id": "Ag5qrDVsFf0g"
   },
   "outputs": [],
   "source": [
    "from sklearn.neighbors import KNeighborsClassifier      \n",
    "from sklearn.multioutput import MultiOutputRegressor    \n",
    "from sklearn.model_selection import train_test_split    \n",
    "from sklearn.ensemble import GradientBoostingRegressor  \n",
    "from sklearn.ensemble import RandomForestClassifier     \n",
    "from sklearn.tree import DecisionTreeClassifier     \n",
    "from sklearn.multioutput import MultiOutputClassifier"
   ]
  },
  {
   "cell_type": "markdown",
   "metadata": {},
   "source": [
    "# Cargar Datos\n",
    "\n",
    "Se importará una tabla de datos en formato `.sav`"
   ]
  },
  {
   "cell_type": "code",
   "execution_count": 3,
   "metadata": {
    "colab": {},
    "colab_type": "code",
    "id": "jQeHBiKMFkYi"
   },
   "outputs": [],
   "source": [
    "df = pd.read_spss(\"nacimientos.sav\")"
   ]
  },
  {
   "cell_type": "markdown",
   "metadata": {},
   "source": [
    "# Exploración de los datos\n",
    "\n",
    "Luego de realizar la exploración de los daroa sin tratar, se pretende tomar las variable relevantes que determinen el proceso que conlleva el resultado de peso y tamaño de un bebé, haciendo principal enfasis en la madre, puesto que en ella es donde radica el mayor tiempo de gestación "
   ]
  },
  {
   "cell_type": "code",
   "execution_count": 4,
   "metadata": {},
   "outputs": [
    {
     "data": {
      "text/plain": [
       "(68449, 52)"
      ]
     },
     "execution_count": 4,
     "metadata": {},
     "output_type": "execute_result"
    }
   ],
   "source": [
    "df.shape"
   ]
  },
  {
   "cell_type": "markdown",
   "metadata": {},
   "source": [
    "Observaremos los nombres de las variables"
   ]
  },
  {
   "cell_type": "code",
   "execution_count": 5,
   "metadata": {},
   "outputs": [
    {
     "data": {
      "text/plain": [
       "Index(['Anotrab', 'Mestrab', 'Nacio', 'Sexo', 'Peso', 'pesorec', 'Estatura',\n",
       "       'estrec', 'Provocu', 'Pcocu', 'Pcdocu', 'Instnac', 'Dianac', 'Mesnac',\n",
       "       'Anonac', 'Leyp', 'Edadpad', 'edpadrec', 'Paispad', 'Nacpad',\n",
       "       'grocupad', 'Nivedpad', 'Hijtepad', 'Escivpad', 'Edadmad', 'edmadrec',\n",
       "       'Paismad', 'Nacmad', 'grocumad', 'Nivedmad', 'Escivmad', 'Provincia',\n",
       "       'Pc', 'Pcd', 'IU', 'Reginec', 'Regsalud', 'Paratend', 'Mesesemb',\n",
       "       'Hijosten', 'Abortos', 'Totconsul', 'Medcons', 'Declara', 'Provregis',\n",
       "       'Pcregis', 'Pcdregis', 'Diadeclara', 'Mesdeclara', 'Anodeclara',\n",
       "       'Filiacion', 'Inscen'],\n",
       "      dtype='object')"
      ]
     },
     "execution_count": 5,
     "metadata": {},
     "output_type": "execute_result"
    }
   ],
   "source": [
    "df.columns"
   ]
  },
  {
   "cell_type": "markdown",
   "metadata": {},
   "source": [
    "Luego de tener los nombres de las variables es importante saber el tipo de dato al que nos estamos enfrentando"
   ]
  },
  {
   "cell_type": "code",
   "execution_count": 6,
   "metadata": {
    "scrolled": true
   },
   "outputs": [
    {
     "data": {
      "text/plain": [
       "Anotrab       category\n",
       "Mestrab       category\n",
       "Nacio         category\n",
       "Sexo          category\n",
       "Peso          category\n",
       "pesorec       category\n",
       "Estatura      category\n",
       "estrec        category\n",
       "Provocu       category\n",
       "Pcocu         category\n",
       "Pcdocu        category\n",
       "Instnac       category\n",
       "Dianac        category\n",
       "Mesnac        category\n",
       "Anonac        category\n",
       "Leyp          category\n",
       "Edadpad       category\n",
       "edpadrec      category\n",
       "Paispad       category\n",
       "Nacpad        category\n",
       "grocupad      category\n",
       "Nivedpad      category\n",
       "Hijtepad      category\n",
       "Escivpad      category\n",
       "Edadmad       category\n",
       "edmadrec      category\n",
       "Paismad       category\n",
       "Nacmad        category\n",
       "grocumad      category\n",
       "Nivedmad      category\n",
       "Escivmad      category\n",
       "Provincia     category\n",
       "Pc            category\n",
       "Pcd           category\n",
       "IU            category\n",
       "Reginec       category\n",
       "Regsalud      category\n",
       "Paratend      category\n",
       "Mesesemb      category\n",
       "Hijosten      category\n",
       "Abortos       category\n",
       "Totconsul     category\n",
       "Medcons       category\n",
       "Declara       category\n",
       "Provregis     category\n",
       "Pcregis       category\n",
       "Pcdregis      category\n",
       "Diadeclara    category\n",
       "Mesdeclara    category\n",
       "Anodeclara    category\n",
       "Filiacion     category\n",
       "Inscen        category\n",
       "dtype: object"
      ]
     },
     "execution_count": 6,
     "metadata": {},
     "output_type": "execute_result"
    }
   ],
   "source": [
    "df.dtypes"
   ]
  },
  {
   "cell_type": "markdown",
   "metadata": {},
   "source": [
    "Hagamos un breve resúmen de los datos"
   ]
  },
  {
   "cell_type": "code",
   "execution_count": 7,
   "metadata": {
    "scrolled": true
   },
   "outputs": [
    {
     "data": {
      "text/plain": [
       "<bound method DataFrame.info of       Anotrab    Mestrab   Nacio    Sexo      Peso       pesorec  Estatura  \\\n",
       "0      2018.0      Marzo    Solo  Hombre       300  Menos de 500        25   \n",
       "1      2018.0      Julio    Solo  Hombre       350  Menos de 500        26   \n",
       "2      2018.0    Octubre    Solo   Mujer       360  Menos de 500        24   \n",
       "3      2018.0      Abril    Solo   Mujer       380  Menos de 500        27   \n",
       "4      2018.0      Abril    Solo   Mujer       410  Menos de 500        25   \n",
       "...       ...        ...     ...     ...       ...           ...       ...   \n",
       "68444  2018.0  Diciembre    Solo  Hombre  Ignorado      Ignorado  Ignorado   \n",
       "68445  2018.0  Diciembre  Gemelo  Hombre  Ignorado      Ignorado  Ignorado   \n",
       "68446  2018.0  Diciembre  Gemelo  Hombre  Ignorado      Ignorado  Ignorado   \n",
       "68447  2018.0  Diciembre    Solo   Mujer  Ignorado      Ignorado  Ignorado   \n",
       "68448  2018.0  Diciembre    Solo  Hombre  Ignorado      Ignorado  Ignorado   \n",
       "\n",
       "         estrec     Provocu             Pcocu  ...   Medcons Declara  \\\n",
       "0       25 - 34  Puntarenas  601 - Puntarenas  ...         3   Madre   \n",
       "1       25 - 34    Alajuela    201 - Alajuela  ...         0   Madre   \n",
       "2       15 - 24  Puntarenas  601 - Puntarenas  ...         2   Madre   \n",
       "3       25 - 34    San José    101 - San José  ...         4   Padre   \n",
       "4       25 - 34    San José    101 - San José  ...         5   Padre   \n",
       "...         ...         ...               ...  ...       ...     ...   \n",
       "68444  Ignorada       Limón   704 - Talamanca  ...  Ignorado   Padre   \n",
       "68445  Ignorada       Limón   704 - Talamanca  ...  Ignorado   Padre   \n",
       "68446  Ignorada       Limón   704 - Talamanca  ...  Ignorado   Padre   \n",
       "68447  Ignorada       Limón       701 - Limón  ...         5   Padre   \n",
       "68448  Ignorada       Limón       701 - Limón  ...  Ignorado   Padre   \n",
       "\n",
       "        Provregis           Pcregis         Pcdregis Diadeclara Mesdeclara  \\\n",
       "0      Puntarenas  601 - Puntarenas  60115- El Roble       13.0      Marzo   \n",
       "1        Alajuela    201 - Alajuela  20101- Alajuela       18.0      Julio   \n",
       "2      Puntarenas  601 - Puntarenas  60115- El Roble        5.0    Octubre   \n",
       "3        San José    101 - San José  10103- Hospital       25.0      Abril   \n",
       "4        San José    101 - San José  10103- Hospital        6.0      Abril   \n",
       "...           ...               ...              ...        ...        ...   \n",
       "68444       Limón   704 - Talamanca    70401- Bratsi        5.0  Diciembre   \n",
       "68445       Limón   704 - Talamanca    70401- Bratsi        3.0  Diciembre   \n",
       "68446       Limón   704 - Talamanca    70401- Bratsi        3.0  Diciembre   \n",
       "68447       Limón       701 - Limón     70101- Limón       18.0  Diciembre   \n",
       "68448       Limón   704 - Talamanca    70401- Bratsi       13.0  Diciembre   \n",
       "\n",
       "      Anodeclara        Filiacion                          Inscen  \n",
       "0         2018.0   Fuera de unión     En institución hospitalaria  \n",
       "1         2018.0   Fuera de unión     En institución hospitalaria  \n",
       "2         2018.0  Dentro de unión     En institución hospitalaria  \n",
       "3         2018.0  Dentro de unión     En institución hospitalaria  \n",
       "4         2018.0  Dentro de unión     En institución hospitalaria  \n",
       "...          ...              ...                             ...  \n",
       "68444     2018.0  Dentro de unión  En delegación o Registro Civil  \n",
       "68445     2018.0  Dentro de unión  En delegación o Registro Civil  \n",
       "68446     2018.0  Dentro de unión  En delegación o Registro Civil  \n",
       "68447     2018.0  Dentro de unión  En delegación o Registro Civil  \n",
       "68448     2018.0  Dentro de unión  En delegación o Registro Civil  \n",
       "\n",
       "[68449 rows x 52 columns]>"
      ]
     },
     "execution_count": 7,
     "metadata": {},
     "output_type": "execute_result"
    }
   ],
   "source": [
    "df.info"
   ]
  },
  {
   "cell_type": "markdown",
   "metadata": {},
   "source": [
    "Por último vamos a dar un vistaso a los datos"
   ]
  },
  {
   "cell_type": "code",
   "execution_count": 8,
   "metadata": {},
   "outputs": [
    {
     "data": {
      "text/html": [
       "<div>\n",
       "<style scoped>\n",
       "    .dataframe tbody tr th:only-of-type {\n",
       "        vertical-align: middle;\n",
       "    }\n",
       "\n",
       "    .dataframe tbody tr th {\n",
       "        vertical-align: top;\n",
       "    }\n",
       "\n",
       "    .dataframe thead th {\n",
       "        text-align: right;\n",
       "    }\n",
       "</style>\n",
       "<table border=\"1\" class=\"dataframe\">\n",
       "  <thead>\n",
       "    <tr style=\"text-align: right;\">\n",
       "      <th></th>\n",
       "      <th>Anotrab</th>\n",
       "      <th>Mestrab</th>\n",
       "      <th>Nacio</th>\n",
       "      <th>Sexo</th>\n",
       "      <th>Peso</th>\n",
       "      <th>pesorec</th>\n",
       "      <th>Estatura</th>\n",
       "      <th>estrec</th>\n",
       "      <th>Provocu</th>\n",
       "      <th>Pcocu</th>\n",
       "      <th>...</th>\n",
       "      <th>Medcons</th>\n",
       "      <th>Declara</th>\n",
       "      <th>Provregis</th>\n",
       "      <th>Pcregis</th>\n",
       "      <th>Pcdregis</th>\n",
       "      <th>Diadeclara</th>\n",
       "      <th>Mesdeclara</th>\n",
       "      <th>Anodeclara</th>\n",
       "      <th>Filiacion</th>\n",
       "      <th>Inscen</th>\n",
       "    </tr>\n",
       "  </thead>\n",
       "  <tbody>\n",
       "    <tr>\n",
       "      <th>0</th>\n",
       "      <td>2018.0</td>\n",
       "      <td>Marzo</td>\n",
       "      <td>Solo</td>\n",
       "      <td>Hombre</td>\n",
       "      <td>300</td>\n",
       "      <td>Menos de 500</td>\n",
       "      <td>25</td>\n",
       "      <td>25 - 34</td>\n",
       "      <td>Puntarenas</td>\n",
       "      <td>601 - Puntarenas</td>\n",
       "      <td>...</td>\n",
       "      <td>3</td>\n",
       "      <td>Madre</td>\n",
       "      <td>Puntarenas</td>\n",
       "      <td>601 - Puntarenas</td>\n",
       "      <td>60115- El Roble</td>\n",
       "      <td>13.0</td>\n",
       "      <td>Marzo</td>\n",
       "      <td>2018.0</td>\n",
       "      <td>Fuera de unión</td>\n",
       "      <td>En institución hospitalaria</td>\n",
       "    </tr>\n",
       "    <tr>\n",
       "      <th>1</th>\n",
       "      <td>2018.0</td>\n",
       "      <td>Julio</td>\n",
       "      <td>Solo</td>\n",
       "      <td>Hombre</td>\n",
       "      <td>350</td>\n",
       "      <td>Menos de 500</td>\n",
       "      <td>26</td>\n",
       "      <td>25 - 34</td>\n",
       "      <td>Alajuela</td>\n",
       "      <td>201 - Alajuela</td>\n",
       "      <td>...</td>\n",
       "      <td>0</td>\n",
       "      <td>Madre</td>\n",
       "      <td>Alajuela</td>\n",
       "      <td>201 - Alajuela</td>\n",
       "      <td>20101- Alajuela</td>\n",
       "      <td>18.0</td>\n",
       "      <td>Julio</td>\n",
       "      <td>2018.0</td>\n",
       "      <td>Fuera de unión</td>\n",
       "      <td>En institución hospitalaria</td>\n",
       "    </tr>\n",
       "    <tr>\n",
       "      <th>2</th>\n",
       "      <td>2018.0</td>\n",
       "      <td>Octubre</td>\n",
       "      <td>Solo</td>\n",
       "      <td>Mujer</td>\n",
       "      <td>360</td>\n",
       "      <td>Menos de 500</td>\n",
       "      <td>24</td>\n",
       "      <td>15 - 24</td>\n",
       "      <td>Puntarenas</td>\n",
       "      <td>601 - Puntarenas</td>\n",
       "      <td>...</td>\n",
       "      <td>2</td>\n",
       "      <td>Madre</td>\n",
       "      <td>Puntarenas</td>\n",
       "      <td>601 - Puntarenas</td>\n",
       "      <td>60115- El Roble</td>\n",
       "      <td>5.0</td>\n",
       "      <td>Octubre</td>\n",
       "      <td>2018.0</td>\n",
       "      <td>Dentro de unión</td>\n",
       "      <td>En institución hospitalaria</td>\n",
       "    </tr>\n",
       "    <tr>\n",
       "      <th>3</th>\n",
       "      <td>2018.0</td>\n",
       "      <td>Abril</td>\n",
       "      <td>Solo</td>\n",
       "      <td>Mujer</td>\n",
       "      <td>380</td>\n",
       "      <td>Menos de 500</td>\n",
       "      <td>27</td>\n",
       "      <td>25 - 34</td>\n",
       "      <td>San José</td>\n",
       "      <td>101 - San José</td>\n",
       "      <td>...</td>\n",
       "      <td>4</td>\n",
       "      <td>Padre</td>\n",
       "      <td>San José</td>\n",
       "      <td>101 - San José</td>\n",
       "      <td>10103- Hospital</td>\n",
       "      <td>25.0</td>\n",
       "      <td>Abril</td>\n",
       "      <td>2018.0</td>\n",
       "      <td>Dentro de unión</td>\n",
       "      <td>En institución hospitalaria</td>\n",
       "    </tr>\n",
       "    <tr>\n",
       "      <th>4</th>\n",
       "      <td>2018.0</td>\n",
       "      <td>Abril</td>\n",
       "      <td>Solo</td>\n",
       "      <td>Mujer</td>\n",
       "      <td>410</td>\n",
       "      <td>Menos de 500</td>\n",
       "      <td>25</td>\n",
       "      <td>25 - 34</td>\n",
       "      <td>San José</td>\n",
       "      <td>101 - San José</td>\n",
       "      <td>...</td>\n",
       "      <td>5</td>\n",
       "      <td>Padre</td>\n",
       "      <td>San José</td>\n",
       "      <td>101 - San José</td>\n",
       "      <td>10103- Hospital</td>\n",
       "      <td>6.0</td>\n",
       "      <td>Abril</td>\n",
       "      <td>2018.0</td>\n",
       "      <td>Dentro de unión</td>\n",
       "      <td>En institución hospitalaria</td>\n",
       "    </tr>\n",
       "  </tbody>\n",
       "</table>\n",
       "<p>5 rows × 52 columns</p>\n",
       "</div>"
      ],
      "text/plain": [
       "  Anotrab  Mestrab Nacio    Sexo Peso       pesorec Estatura   estrec  \\\n",
       "0  2018.0    Marzo  Solo  Hombre  300  Menos de 500       25  25 - 34   \n",
       "1  2018.0    Julio  Solo  Hombre  350  Menos de 500       26  25 - 34   \n",
       "2  2018.0  Octubre  Solo   Mujer  360  Menos de 500       24  15 - 24   \n",
       "3  2018.0    Abril  Solo   Mujer  380  Menos de 500       27  25 - 34   \n",
       "4  2018.0    Abril  Solo   Mujer  410  Menos de 500       25  25 - 34   \n",
       "\n",
       "      Provocu             Pcocu  ... Medcons Declara   Provregis  \\\n",
       "0  Puntarenas  601 - Puntarenas  ...       3   Madre  Puntarenas   \n",
       "1    Alajuela    201 - Alajuela  ...       0   Madre    Alajuela   \n",
       "2  Puntarenas  601 - Puntarenas  ...       2   Madre  Puntarenas   \n",
       "3    San José    101 - San José  ...       4   Padre    San José   \n",
       "4    San José    101 - San José  ...       5   Padre    San José   \n",
       "\n",
       "            Pcregis         Pcdregis Diadeclara Mesdeclara Anodeclara  \\\n",
       "0  601 - Puntarenas  60115- El Roble       13.0      Marzo     2018.0   \n",
       "1    201 - Alajuela  20101- Alajuela       18.0      Julio     2018.0   \n",
       "2  601 - Puntarenas  60115- El Roble        5.0    Octubre     2018.0   \n",
       "3    101 - San José  10103- Hospital       25.0      Abril     2018.0   \n",
       "4    101 - San José  10103- Hospital        6.0      Abril     2018.0   \n",
       "\n",
       "         Filiacion                       Inscen  \n",
       "0   Fuera de unión  En institución hospitalaria  \n",
       "1   Fuera de unión  En institución hospitalaria  \n",
       "2  Dentro de unión  En institución hospitalaria  \n",
       "3  Dentro de unión  En institución hospitalaria  \n",
       "4  Dentro de unión  En institución hospitalaria  \n",
       "\n",
       "[5 rows x 52 columns]"
      ]
     },
     "execution_count": 8,
     "metadata": {},
     "output_type": "execute_result"
    }
   ],
   "source": [
    "df.head()"
   ]
  },
  {
   "cell_type": "markdown",
   "metadata": {},
   "source": [
    "# Preparación de los datos\n",
    "Se utilizará el comando `df[df != \"Ignorado\"]`, para eliminar los atributos llamados `Ignorado` o `Ignorada` que corresponden a un dato nulo."
   ]
  },
  {
   "cell_type": "code",
   "execution_count": 9,
   "metadata": {
    "colab": {},
    "colab_type": "code",
    "id": "taPg12W4FmtS"
   },
   "outputs": [],
   "source": [
    "df = df[df != \"Ignorado\"]\n",
    "df = df[df != \"Ignorada\"]\n",
    "df = df.dropna()"
   ]
  },
  {
   "cell_type": "markdown",
   "metadata": {},
   "source": [
    "Vamos asignar nuestras variables independientes (`datos`) y dependientes (`multi_salida, peso,tamaño`).\n",
    " \n",
    "Variables dependientes:\n",
    "- `estrec` = Estatura al nacer en grupos\n",
    "- `pesorec`= Peso al nacer en grupos\n",
    "\n",
    " \n",
    "Variables independientes serian:\n",
    " - `Nacio`     = Tipo de nacimiento\n",
    " - `Sexo`      = Sexo del recien nacido\n",
    " - `Leyp`      = Ley de paternidad responsable\n",
    " - `grocupad`  = Grupos de ocupación del padre\n",
    " - `edmadrec`  = Edad de la madre en grupos\n",
    " - `grocumad`  = Grupos de ocupación de la madre\n",
    " - `IU`        = Indice de Urbanidad\n",
    " - `Mesesemb`  = Meses de embarazo\n",
    " - `Hijosten`  = Hijos tenidos por la madre\n",
    " - `Abortos`   = Total de Abortos\n",
    " - `Medcons`   = Consultas por medico\n",
    "\n"
   ]
  },
  {
   "cell_type": "code",
   "execution_count": 10,
   "metadata": {
    "colab": {},
    "colab_type": "code",
    "id": "TWh-PFVxgiMr"
   },
   "outputs": [],
   "source": [
    "df = pd.DataFrame(df)\n",
    "datos = df[['Nacio', 'Sexo','Leyp', 'grocupad', 'edmadrec', 'grocumad', 'IU', 'Mesesemb', 'Hijosten', 'Abortos', 'Medcons']]\n",
    "peso = df['pesorec']\n",
    "tamaño = df['estrec']\n",
    "multi_salida = df[['pesorec', 'estrec']]"
   ]
  },
  {
   "cell_type": "markdown",
   "metadata": {},
   "source": [
    "## Visualización de la variable dependiente\n",
    "\n",
    "Al correlacionar la estatura con el peso del bebé al nacer, obtenemos un comportamiento bastante lógico como es el caso de que un bebé de 15-24 cm el cual puede ser categrizado como pequeño tendrá implicaciones en su desarrollo y problemas de salud.\n",
    "\n",
    "Además podemos suponer que:\n",
    "- Tamaño normal va de 35cm a 54cm, con un peso que deberia estar en un rango de 1500-2999 gamos\n",
    "- Tamaño pequeño va de 15cm a 34cm, con un peso que deberia estar en un rango de menos de 500-1499 gamos\n",
    "- Tamaño grande va de 55 cm y más, con un peso que deberia estar en un rango de 3000-3500 y más gamos"
   ]
  },
  {
   "cell_type": "code",
   "execution_count": 11,
   "metadata": {},
   "outputs": [
    {
     "data": {
      "image/png": "[encoded data removed]",
      "text/plain": [
       "<Figure size 720x576 with 1 Axes>"
      ]
     },
     "metadata": {
      "needs_background": "light"
     },
     "output_type": "display_data"
    }
   ],
   "source": [
    "plt.figure(figsize=(10,8))\n",
    "plt.scatter('pesorec', 'estrec', data=multi_salida)\n",
    "plt.xlabel('Peso al nacer en gramos')\n",
    "plt.ylabel('Estatura al nacer en centimetros')\n",
    "plt.show()"
   ]
  },
  {
   "cell_type": "code",
   "execution_count": 12,
   "metadata": {},
   "outputs": [
    {
     "data": {
      "text/plain": [
       "<BarContainer object of 34633 artists>"
      ]
     },
     "execution_count": 12,
     "metadata": {},
     "output_type": "execute_result"
    },
    {
     "data": {
      "image/png": "[encoded data removed]",
      "text/plain": [
       "<Figure size 1440x576 with 1 Axes>"
      ]
     },
     "metadata": {
      "needs_background": "light"
     },
     "output_type": "display_data"
    }
   ],
   "source": [
    "plt.figure(figsize=(20,8))\n",
    "#plt.subplot(131)\n",
    "plt.bar(peso, tamaño)"
   ]
  },
  {
   "cell_type": "markdown",
   "metadata": {},
   "source": [
    "En los siguientes dos histogramas se analizó como están distribuida las variables dependientes. \n",
    "En ambos gráficos vemos que los datos no poseen una distribución normal, pues tienden a no estar repartido de forma equitativa, sin embargo, la variable de peso esta más aceptada en sus atributos "
   ]
  },
  {
   "cell_type": "code",
   "execution_count": 13,
   "metadata": {},
   "outputs": [
    {
     "data": {
      "text/plain": [
       "<AxesSubplot:>"
      ]
     },
     "execution_count": 13,
     "metadata": {},
     "output_type": "execute_result"
    },
    {
     "data": {
      "image/png": "[encoded data removed]",
      "text/plain": [
       "<Figure size 720x576 with 1 Axes>"
      ]
     },
     "metadata": {
      "needs_background": "light"
     },
     "output_type": "display_data"
    }
   ],
   "source": [
    "plt.figure(figsize=(10,8))\n",
    "peso.hist()"
   ]
  },
  {
   "cell_type": "code",
   "execution_count": 14,
   "metadata": {},
   "outputs": [
    {
     "data": {
      "text/plain": [
       "<AxesSubplot:>"
      ]
     },
     "execution_count": 14,
     "metadata": {},
     "output_type": "execute_result"
    },
    {
     "data": {
      "image/png": "[encoded data removed]",
      "text/plain": [
       "<Figure size 720x576 with 1 Axes>"
      ]
     },
     "metadata": {
      "needs_background": "light"
     },
     "output_type": "display_data"
    }
   ],
   "source": [
    "plt.figure(figsize=(10,8))\n",
    "tamaño.hist()"
   ]
  },
  {
   "cell_type": "markdown",
   "metadata": {},
   "source": [
    "El gráfico pairplot que se presenta a continuación, está basado en las variables independientes, con este buscamos explorar los mismos"
   ]
  },
  {
   "cell_type": "code",
   "execution_count": 15,
   "metadata": {},
   "outputs": [
    {
     "data": {
      "text/plain": [
       "<seaborn.axisgrid.PairGrid at 0x7fbf0a4dc320>"
      ]
     },
     "execution_count": 15,
     "metadata": {},
     "output_type": "execute_result"
    },
    {
     "data": {
      "image/png": "[encoded data removed]",
      "text/plain": [
       "<Figure size 720x720 with 20 Axes>"
      ]
     },
     "metadata": {
      "needs_background": "light"
     },
     "output_type": "display_data"
    }
   ],
   "source": [
    "sns.pairplot(datos)"
   ]
  },
  {
   "cell_type": "markdown",
   "metadata": {},
   "source": [
    "## Transformación a datos dummies\n",
    "En este segmento se tomarán las variables independientes para ser tranformadas en `dummies`, puesto que tenemos una gran variedad de datos de tipo `caracter` que son necesarios para generar una predicción idónea.\n",
    "\n",
    "La variable dependiente no se convierte, pues recordemos que esta tiene función de etiquéta de tipo `factor`."
   ]
  },
  {
   "cell_type": "code",
   "execution_count": 16,
   "metadata": {
    "colab": {},
    "colab_type": "code",
    "id": "pCL7Bxq2girM"
   },
   "outputs": [],
   "source": [
    "datos = pd.get_dummies(datos, drop_first=True)"
   ]
  },
  {
   "cell_type": "markdown",
   "metadata": {},
   "source": [
    "## División de los datos\n",
    "\n",
    "En la división de los datos de entrenamiento (`X_train, y_train`) y de prueba (`X_test, y_test`), se va a utilizar la regla del 80/20, en donde el 80% de los datos será para entrenamientos, elegído de forma elatoria."
   ]
  },
  {
   "cell_type": "markdown",
   "metadata": {},
   "source": [
    "### Multi-salida"
   ]
  },
  {
   "cell_type": "code",
   "execution_count": 17,
   "metadata": {
    "colab": {},
    "colab_type": "code",
    "id": "_eu_pyKXgi1e"
   },
   "outputs": [],
   "source": [
    "X_train, X_test, y_train, y_test = train_test_split(datos,multi_salida,test_size = 0.2, random_state=42)"
   ]
  },
  {
   "cell_type": "markdown",
   "metadata": {},
   "source": [
    "### Peso"
   ]
  },
  {
   "cell_type": "code",
   "execution_count": 18,
   "metadata": {},
   "outputs": [],
   "source": [
    "X_p_train, X_p_test, Y_p_train, Y_p_test = train_test_split(datos,peso,test_size = 0.2, random_state=42)"
   ]
  },
  {
   "cell_type": "markdown",
   "metadata": {},
   "source": [
    "### Tamaño"
   ]
  },
  {
   "cell_type": "code",
   "execution_count": 19,
   "metadata": {},
   "outputs": [],
   "source": [
    "X_t_train, X_t_test, Y_t_train, Y_t_test = train_test_split(datos,tamaño,test_size = 0.2, random_state=42)"
   ]
  },
  {
   "cell_type": "markdown",
   "metadata": {},
   "source": [
    "# Predicción\n",
    "La libreria que se trabajará para realizar estas predicciones es la de `scikit learn` con los algoritmos de clasificación: `Regresión` y `Random Forest`\n",
    "## Predicción de 2 variables\n",
    "Estos algoritmos son conocidos como `Multilable` y pueden tene 2 o más variables dependientes para generar su predicción\n",
    "### RandomForest"
   ]
  },
  {
   "cell_type": "code",
   "execution_count": 20,
   "metadata": {
    "colab": {},
    "colab_type": "code",
    "id": "Mv-rJdQsaZjD"
   },
   "outputs": [
    {
     "name": "stdout",
     "output_type": "stream",
     "text": [
      "0.8195697682812387\n"
     ]
    }
   ],
   "source": [
    "from sklearn.multioutput import MultiOutputClassifier\n",
    "forest = RandomForestClassifier(random_state=1)\n",
    "multi_target_forest = MultiOutputClassifier(forest, n_jobs=-1)\n",
    "mgbr = mtf = multi_target_forest.fit(X_train, y_train)\n",
    "print(mtf.score(X_train, y_train))"
   ]
  },
  {
   "cell_type": "markdown",
   "metadata": {},
   "source": [
    "### Regresión milti-salida"
   ]
  },
  {
   "cell_type": "code",
   "execution_count": 15,
   "metadata": {
    "colab": {},
    "colab_type": "code",
    "collapsed": true,
    "id": "fJpXQ8uqaZ_p"
   },
   "outputs": [
    {
     "ename": "ValueError",
     "evalue": "could not convert string to float: '3500 y más'",
     "output_type": "error",
     "traceback": [
      "\u001b[0;31m---------------------------------------------------------------------------\u001b[0m",
      "\u001b[0;31mValueError\u001b[0m                                Traceback (most recent call last)",
      "\u001b[0;32m<ipython-input-15-16c8365a679b>\u001b[0m in \u001b[0;36m<module>\u001b[0;34m\u001b[0m\n\u001b[1;32m      1\u001b[0m MultiOutputRegressor(\n\u001b[0;32m----> 2\u001b[0;31m     GradientBoostingRegressor(random_state=0)).fit(X_train, y_train).score(X_train, y_train)\n\u001b[0m",
      "\u001b[0;32m/home/koki/snap/jupyter/common/lib/python3.7/site-packages/sklearn/multioutput.py\u001b[0m in \u001b[0;36mfit\u001b[0;34m(self, X, y, sample_weight, **fit_params)\u001b[0m\n\u001b[1;32m    174\u001b[0m                 \u001b[0mself\u001b[0m\u001b[0;34m.\u001b[0m\u001b[0mestimator\u001b[0m\u001b[0;34m,\u001b[0m \u001b[0mX\u001b[0m\u001b[0;34m,\u001b[0m \u001b[0my\u001b[0m\u001b[0;34m[\u001b[0m\u001b[0;34m:\u001b[0m\u001b[0;34m,\u001b[0m \u001b[0mi\u001b[0m\u001b[0;34m]\u001b[0m\u001b[0;34m,\u001b[0m \u001b[0msample_weight\u001b[0m\u001b[0;34m,\u001b[0m\u001b[0;34m\u001b[0m\u001b[0;34m\u001b[0m\u001b[0m\n\u001b[1;32m    175\u001b[0m                 **fit_params_validated)\n\u001b[0;32m--> 176\u001b[0;31m             for i in range(y.shape[1]))\n\u001b[0m\u001b[1;32m    177\u001b[0m         \u001b[0;32mreturn\u001b[0m \u001b[0mself\u001b[0m\u001b[0;34m\u001b[0m\u001b[0;34m\u001b[0m\u001b[0m\n\u001b[1;32m    178\u001b[0m \u001b[0;34m\u001b[0m\u001b[0m\n",
      "\u001b[0;32m/home/koki/snap/jupyter/common/lib/python3.7/site-packages/joblib/parallel.py\u001b[0m in \u001b[0;36m__call__\u001b[0;34m(self, iterable)\u001b[0m\n\u001b[1;32m   1027\u001b[0m             \u001b[0;31m# remaining jobs.\u001b[0m\u001b[0;34m\u001b[0m\u001b[0;34m\u001b[0m\u001b[0;34m\u001b[0m\u001b[0m\n\u001b[1;32m   1028\u001b[0m             \u001b[0mself\u001b[0m\u001b[0;34m.\u001b[0m\u001b[0m_iterating\u001b[0m \u001b[0;34m=\u001b[0m \u001b[0;32mFalse\u001b[0m\u001b[0;34m\u001b[0m\u001b[0;34m\u001b[0m\u001b[0m\n\u001b[0;32m-> 1029\u001b[0;31m             \u001b[0;32mif\u001b[0m \u001b[0mself\u001b[0m\u001b[0;34m.\u001b[0m\u001b[0mdispatch_one_batch\u001b[0m\u001b[0;34m(\u001b[0m\u001b[0miterator\u001b[0m\u001b[0;34m)\u001b[0m\u001b[0;34m:\u001b[0m\u001b[0;34m\u001b[0m\u001b[0;34m\u001b[0m\u001b[0m\n\u001b[0m\u001b[1;32m   1030\u001b[0m                 \u001b[0mself\u001b[0m\u001b[0;34m.\u001b[0m\u001b[0m_iterating\u001b[0m \u001b[0;34m=\u001b[0m \u001b[0mself\u001b[0m\u001b[0;34m.\u001b[0m\u001b[0m_original_iterator\u001b[0m \u001b[0;32mis\u001b[0m \u001b[0;32mnot\u001b[0m \u001b[0;32mNone\u001b[0m\u001b[0;34m\u001b[0m\u001b[0;34m\u001b[0m\u001b[0m\n\u001b[1;32m   1031\u001b[0m \u001b[0;34m\u001b[0m\u001b[0m\n",
      "\u001b[0;32m/home/koki/snap/jupyter/common/lib/python3.7/site-packages/joblib/parallel.py\u001b[0m in \u001b[0;36mdispatch_one_batch\u001b[0;34m(self, iterator)\u001b[0m\n\u001b[1;32m    845\u001b[0m                 \u001b[0;32mreturn\u001b[0m \u001b[0;32mFalse\u001b[0m\u001b[0;34m\u001b[0m\u001b[0;34m\u001b[0m\u001b[0m\n\u001b[1;32m    846\u001b[0m             \u001b[0;32melse\u001b[0m\u001b[0;34m:\u001b[0m\u001b[0;34m\u001b[0m\u001b[0;34m\u001b[0m\u001b[0m\n\u001b[0;32m--> 847\u001b[0;31m                 \u001b[0mself\u001b[0m\u001b[0;34m.\u001b[0m\u001b[0m_dispatch\u001b[0m\u001b[0;34m(\u001b[0m\u001b[0mtasks\u001b[0m\u001b[0;34m)\u001b[0m\u001b[0;34m\u001b[0m\u001b[0;34m\u001b[0m\u001b[0m\n\u001b[0m\u001b[1;32m    848\u001b[0m                 \u001b[0;32mreturn\u001b[0m \u001b[0;32mTrue\u001b[0m\u001b[0;34m\u001b[0m\u001b[0;34m\u001b[0m\u001b[0m\n\u001b[1;32m    849\u001b[0m \u001b[0;34m\u001b[0m\u001b[0m\n",
      "\u001b[0;32m/home/koki/snap/jupyter/common/lib/python3.7/site-packages/joblib/parallel.py\u001b[0m in \u001b[0;36m_dispatch\u001b[0;34m(self, batch)\u001b[0m\n\u001b[1;32m    763\u001b[0m         \u001b[0;32mwith\u001b[0m \u001b[0mself\u001b[0m\u001b[0;34m.\u001b[0m\u001b[0m_lock\u001b[0m\u001b[0;34m:\u001b[0m\u001b[0;34m\u001b[0m\u001b[0;34m\u001b[0m\u001b[0m\n\u001b[1;32m    764\u001b[0m             \u001b[0mjob_idx\u001b[0m \u001b[0;34m=\u001b[0m \u001b[0mlen\u001b[0m\u001b[0;34m(\u001b[0m\u001b[0mself\u001b[0m\u001b[0;34m.\u001b[0m\u001b[0m_jobs\u001b[0m\u001b[0;34m)\u001b[0m\u001b[0;34m\u001b[0m\u001b[0;34m\u001b[0m\u001b[0m\n\u001b[0;32m--> 765\u001b[0;31m             \u001b[0mjob\u001b[0m \u001b[0;34m=\u001b[0m \u001b[0mself\u001b[0m\u001b[0;34m.\u001b[0m\u001b[0m_backend\u001b[0m\u001b[0;34m.\u001b[0m\u001b[0mapply_async\u001b[0m\u001b[0;34m(\u001b[0m\u001b[0mbatch\u001b[0m\u001b[0;34m,\u001b[0m \u001b[0mcallback\u001b[0m\u001b[0;34m=\u001b[0m\u001b[0mcb\u001b[0m\u001b[0;34m)\u001b[0m\u001b[0;34m\u001b[0m\u001b[0;34m\u001b[0m\u001b[0m\n\u001b[0m\u001b[1;32m    766\u001b[0m             \u001b[0;31m# A job can complete so quickly than its callback is\u001b[0m\u001b[0;34m\u001b[0m\u001b[0;34m\u001b[0m\u001b[0;34m\u001b[0m\u001b[0m\n\u001b[1;32m    767\u001b[0m             \u001b[0;31m# called before we get here, causing self._jobs to\u001b[0m\u001b[0;34m\u001b[0m\u001b[0;34m\u001b[0m\u001b[0;34m\u001b[0m\u001b[0m\n",
      "\u001b[0;32m/home/koki/snap/jupyter/common/lib/python3.7/site-packages/joblib/_parallel_backends.py\u001b[0m in \u001b[0;36mapply_async\u001b[0;34m(self, func, callback)\u001b[0m\n\u001b[1;32m    206\u001b[0m     \u001b[0;32mdef\u001b[0m \u001b[0mapply_async\u001b[0m\u001b[0;34m(\u001b[0m\u001b[0mself\u001b[0m\u001b[0;34m,\u001b[0m \u001b[0mfunc\u001b[0m\u001b[0;34m,\u001b[0m \u001b[0mcallback\u001b[0m\u001b[0;34m=\u001b[0m\u001b[0;32mNone\u001b[0m\u001b[0;34m)\u001b[0m\u001b[0;34m:\u001b[0m\u001b[0;34m\u001b[0m\u001b[0;34m\u001b[0m\u001b[0m\n\u001b[1;32m    207\u001b[0m         \u001b[0;34m\"\"\"Schedule a func to be run\"\"\"\u001b[0m\u001b[0;34m\u001b[0m\u001b[0;34m\u001b[0m\u001b[0m\n\u001b[0;32m--> 208\u001b[0;31m         \u001b[0mresult\u001b[0m \u001b[0;34m=\u001b[0m \u001b[0mImmediateResult\u001b[0m\u001b[0;34m(\u001b[0m\u001b[0mfunc\u001b[0m\u001b[0;34m)\u001b[0m\u001b[0;34m\u001b[0m\u001b[0;34m\u001b[0m\u001b[0m\n\u001b[0m\u001b[1;32m    209\u001b[0m         \u001b[0;32mif\u001b[0m \u001b[0mcallback\u001b[0m\u001b[0;34m:\u001b[0m\u001b[0;34m\u001b[0m\u001b[0;34m\u001b[0m\u001b[0m\n\u001b[1;32m    210\u001b[0m             \u001b[0mcallback\u001b[0m\u001b[0;34m(\u001b[0m\u001b[0mresult\u001b[0m\u001b[0;34m)\u001b[0m\u001b[0;34m\u001b[0m\u001b[0;34m\u001b[0m\u001b[0m\n",
      "\u001b[0;32m/home/koki/snap/jupyter/common/lib/python3.7/site-packages/joblib/_parallel_backends.py\u001b[0m in \u001b[0;36m__init__\u001b[0;34m(self, batch)\u001b[0m\n\u001b[1;32m    570\u001b[0m         \u001b[0;31m# Don't delay the application, to avoid keeping the input\u001b[0m\u001b[0;34m\u001b[0m\u001b[0;34m\u001b[0m\u001b[0;34m\u001b[0m\u001b[0m\n\u001b[1;32m    571\u001b[0m         \u001b[0;31m# arguments in memory\u001b[0m\u001b[0;34m\u001b[0m\u001b[0;34m\u001b[0m\u001b[0;34m\u001b[0m\u001b[0m\n\u001b[0;32m--> 572\u001b[0;31m         \u001b[0mself\u001b[0m\u001b[0;34m.\u001b[0m\u001b[0mresults\u001b[0m \u001b[0;34m=\u001b[0m \u001b[0mbatch\u001b[0m\u001b[0;34m(\u001b[0m\u001b[0;34m)\u001b[0m\u001b[0;34m\u001b[0m\u001b[0;34m\u001b[0m\u001b[0m\n\u001b[0m\u001b[1;32m    573\u001b[0m \u001b[0;34m\u001b[0m\u001b[0m\n\u001b[1;32m    574\u001b[0m     \u001b[0;32mdef\u001b[0m \u001b[0mget\u001b[0m\u001b[0;34m(\u001b[0m\u001b[0mself\u001b[0m\u001b[0;34m)\u001b[0m\u001b[0;34m:\u001b[0m\u001b[0;34m\u001b[0m\u001b[0;34m\u001b[0m\u001b[0m\n",
      "\u001b[0;32m/home/koki/snap/jupyter/common/lib/python3.7/site-packages/joblib/parallel.py\u001b[0m in \u001b[0;36m__call__\u001b[0;34m(self)\u001b[0m\n\u001b[1;32m    251\u001b[0m         \u001b[0;32mwith\u001b[0m \u001b[0mparallel_backend\u001b[0m\u001b[0;34m(\u001b[0m\u001b[0mself\u001b[0m\u001b[0;34m.\u001b[0m\u001b[0m_backend\u001b[0m\u001b[0;34m,\u001b[0m \u001b[0mn_jobs\u001b[0m\u001b[0;34m=\u001b[0m\u001b[0mself\u001b[0m\u001b[0;34m.\u001b[0m\u001b[0m_n_jobs\u001b[0m\u001b[0;34m)\u001b[0m\u001b[0;34m:\u001b[0m\u001b[0;34m\u001b[0m\u001b[0;34m\u001b[0m\u001b[0m\n\u001b[1;32m    252\u001b[0m             return [func(*args, **kwargs)\n\u001b[0;32m--> 253\u001b[0;31m                     for func, args, kwargs in self.items]\n\u001b[0m\u001b[1;32m    254\u001b[0m \u001b[0;34m\u001b[0m\u001b[0m\n\u001b[1;32m    255\u001b[0m     \u001b[0;32mdef\u001b[0m \u001b[0m__reduce__\u001b[0m\u001b[0;34m(\u001b[0m\u001b[0mself\u001b[0m\u001b[0;34m)\u001b[0m\u001b[0;34m:\u001b[0m\u001b[0;34m\u001b[0m\u001b[0;34m\u001b[0m\u001b[0m\n",
      "\u001b[0;32m/home/koki/snap/jupyter/common/lib/python3.7/site-packages/joblib/parallel.py\u001b[0m in \u001b[0;36m<listcomp>\u001b[0;34m(.0)\u001b[0m\n\u001b[1;32m    251\u001b[0m         \u001b[0;32mwith\u001b[0m \u001b[0mparallel_backend\u001b[0m\u001b[0;34m(\u001b[0m\u001b[0mself\u001b[0m\u001b[0;34m.\u001b[0m\u001b[0m_backend\u001b[0m\u001b[0;34m,\u001b[0m \u001b[0mn_jobs\u001b[0m\u001b[0;34m=\u001b[0m\u001b[0mself\u001b[0m\u001b[0;34m.\u001b[0m\u001b[0m_n_jobs\u001b[0m\u001b[0;34m)\u001b[0m\u001b[0;34m:\u001b[0m\u001b[0;34m\u001b[0m\u001b[0;34m\u001b[0m\u001b[0m\n\u001b[1;32m    252\u001b[0m             return [func(*args, **kwargs)\n\u001b[0;32m--> 253\u001b[0;31m                     for func, args, kwargs in self.items]\n\u001b[0m\u001b[1;32m    254\u001b[0m \u001b[0;34m\u001b[0m\u001b[0m\n\u001b[1;32m    255\u001b[0m     \u001b[0;32mdef\u001b[0m \u001b[0m__reduce__\u001b[0m\u001b[0;34m(\u001b[0m\u001b[0mself\u001b[0m\u001b[0;34m)\u001b[0m\u001b[0;34m:\u001b[0m\u001b[0;34m\u001b[0m\u001b[0;34m\u001b[0m\u001b[0m\n",
      "\u001b[0;32m/home/koki/snap/jupyter/common/lib/python3.7/site-packages/sklearn/multioutput.py\u001b[0m in \u001b[0;36m_fit_estimator\u001b[0;34m(estimator, X, y, sample_weight, **fit_params)\u001b[0m\n\u001b[1;32m     39\u001b[0m         \u001b[0mestimator\u001b[0m\u001b[0;34m.\u001b[0m\u001b[0mfit\u001b[0m\u001b[0;34m(\u001b[0m\u001b[0mX\u001b[0m\u001b[0;34m,\u001b[0m \u001b[0my\u001b[0m\u001b[0;34m,\u001b[0m \u001b[0msample_weight\u001b[0m\u001b[0;34m=\u001b[0m\u001b[0msample_weight\u001b[0m\u001b[0;34m,\u001b[0m \u001b[0;34m**\u001b[0m\u001b[0mfit_params\u001b[0m\u001b[0;34m)\u001b[0m\u001b[0;34m\u001b[0m\u001b[0;34m\u001b[0m\u001b[0m\n\u001b[1;32m     40\u001b[0m     \u001b[0;32melse\u001b[0m\u001b[0;34m:\u001b[0m\u001b[0;34m\u001b[0m\u001b[0;34m\u001b[0m\u001b[0m\n\u001b[0;32m---> 41\u001b[0;31m         \u001b[0mestimator\u001b[0m\u001b[0;34m.\u001b[0m\u001b[0mfit\u001b[0m\u001b[0;34m(\u001b[0m\u001b[0mX\u001b[0m\u001b[0;34m,\u001b[0m \u001b[0my\u001b[0m\u001b[0;34m,\u001b[0m \u001b[0;34m**\u001b[0m\u001b[0mfit_params\u001b[0m\u001b[0;34m)\u001b[0m\u001b[0;34m\u001b[0m\u001b[0;34m\u001b[0m\u001b[0m\n\u001b[0m\u001b[1;32m     42\u001b[0m     \u001b[0;32mreturn\u001b[0m \u001b[0mestimator\u001b[0m\u001b[0;34m\u001b[0m\u001b[0;34m\u001b[0m\u001b[0m\n\u001b[1;32m     43\u001b[0m \u001b[0;34m\u001b[0m\u001b[0m\n",
      "\u001b[0;32m/home/koki/snap/jupyter/common/lib/python3.7/site-packages/sklearn/ensemble/_gb.py\u001b[0m in \u001b[0;36mfit\u001b[0;34m(self, X, y, sample_weight, monitor)\u001b[0m\n\u001b[1;32m    416\u001b[0m \u001b[0;34m\u001b[0m\u001b[0m\n\u001b[1;32m    417\u001b[0m         \u001b[0my\u001b[0m \u001b[0;34m=\u001b[0m \u001b[0mcolumn_or_1d\u001b[0m\u001b[0;34m(\u001b[0m\u001b[0my\u001b[0m\u001b[0;34m,\u001b[0m \u001b[0mwarn\u001b[0m\u001b[0;34m=\u001b[0m\u001b[0;32mTrue\u001b[0m\u001b[0;34m)\u001b[0m\u001b[0;34m\u001b[0m\u001b[0;34m\u001b[0m\u001b[0m\n\u001b[0;32m--> 418\u001b[0;31m         \u001b[0my\u001b[0m \u001b[0;34m=\u001b[0m \u001b[0mself\u001b[0m\u001b[0;34m.\u001b[0m\u001b[0m_validate_y\u001b[0m\u001b[0;34m(\u001b[0m\u001b[0my\u001b[0m\u001b[0;34m,\u001b[0m \u001b[0msample_weight\u001b[0m\u001b[0;34m)\u001b[0m\u001b[0;34m\u001b[0m\u001b[0;34m\u001b[0m\u001b[0m\n\u001b[0m\u001b[1;32m    419\u001b[0m \u001b[0;34m\u001b[0m\u001b[0m\n\u001b[1;32m    420\u001b[0m         \u001b[0;32mif\u001b[0m \u001b[0mself\u001b[0m\u001b[0;34m.\u001b[0m\u001b[0mn_iter_no_change\u001b[0m \u001b[0;32mis\u001b[0m \u001b[0;32mnot\u001b[0m \u001b[0;32mNone\u001b[0m\u001b[0;34m:\u001b[0m\u001b[0;34m\u001b[0m\u001b[0;34m\u001b[0m\u001b[0m\n",
      "\u001b[0;32m/home/koki/snap/jupyter/common/lib/python3.7/site-packages/sklearn/ensemble/_gb.py\u001b[0m in \u001b[0;36m_validate_y\u001b[0;34m(self, y, sample_weight)\u001b[0m\n\u001b[1;32m    729\u001b[0m         \u001b[0mself\u001b[0m\u001b[0;34m.\u001b[0m\u001b[0mn_classes_\u001b[0m \u001b[0;34m=\u001b[0m \u001b[0;36m1\u001b[0m\u001b[0;34m\u001b[0m\u001b[0;34m\u001b[0m\u001b[0m\n\u001b[1;32m    730\u001b[0m         \u001b[0;32mif\u001b[0m \u001b[0my\u001b[0m\u001b[0;34m.\u001b[0m\u001b[0mdtype\u001b[0m\u001b[0;34m.\u001b[0m\u001b[0mkind\u001b[0m \u001b[0;34m==\u001b[0m \u001b[0;34m'O'\u001b[0m\u001b[0;34m:\u001b[0m\u001b[0;34m\u001b[0m\u001b[0;34m\u001b[0m\u001b[0m\n\u001b[0;32m--> 731\u001b[0;31m             \u001b[0my\u001b[0m \u001b[0;34m=\u001b[0m \u001b[0my\u001b[0m\u001b[0;34m.\u001b[0m\u001b[0mastype\u001b[0m\u001b[0;34m(\u001b[0m\u001b[0mDOUBLE\u001b[0m\u001b[0;34m)\u001b[0m\u001b[0;34m\u001b[0m\u001b[0;34m\u001b[0m\u001b[0m\n\u001b[0m\u001b[1;32m    732\u001b[0m         \u001b[0;31m# Default implementation\u001b[0m\u001b[0;34m\u001b[0m\u001b[0;34m\u001b[0m\u001b[0;34m\u001b[0m\u001b[0m\n\u001b[1;32m    733\u001b[0m         \u001b[0;32mreturn\u001b[0m \u001b[0my\u001b[0m\u001b[0;34m\u001b[0m\u001b[0;34m\u001b[0m\u001b[0m\n",
      "\u001b[0;31mValueError\u001b[0m: could not convert string to float: '3500 y más'"
     ]
    }
   ],
   "source": [
    "MultiOutputRegressor(\n",
    "    GradientBoostingRegressor(random_state=0)).fit(X_train, y_train).score(X_train, y_train)"
   ]
  },
  {
   "cell_type": "markdown",
   "metadata": {},
   "source": [
    "## Predicción de 1 variable\n",
    "En este segmento tendremos un algoritmo de clasificación tradicional con una sola variable y utilizaremos los mismos clasificadores para hacer una comparación con los resultados de las predicciones anteriores.\n",
    "\n",
    "### Peso\n"
   ]
  },
  {
   "cell_type": "markdown",
   "metadata": {},
   "source": [
    "## Kneighbots"
   ]
  },
  {
   "cell_type": "code",
   "execution_count": 21,
   "metadata": {},
   "outputs": [
    {
     "name": "stdout",
     "output_type": "stream",
     "text": [
      "0.5553670685050169\n"
     ]
    }
   ],
   "source": [
    "p_pred_knn = KNeighborsClassifier().fit(X_p_train, Y_p_train)\n",
    "print(KNeighborsClassifier().fit(X_p_train, Y_p_train).score(X_p_train, Y_p_train))"
   ]
  },
  {
   "cell_type": "markdown",
   "metadata": {},
   "source": [
    "## Decision Tree"
   ]
  },
  {
   "cell_type": "code",
   "execution_count": 22,
   "metadata": {},
   "outputs": [
    {
     "name": "stdout",
     "output_type": "stream",
     "text": [
      "0.8255251570057027\n"
     ]
    }
   ],
   "source": [
    "p_pred_dtc = DecisionTreeClassifier().fit(X_p_train, Y_p_train)\n",
    "print(DecisionTreeClassifier().fit(X_p_train, Y_p_train).score(X_p_train, Y_p_train))"
   ]
  },
  {
   "cell_type": "markdown",
   "metadata": {},
   "source": [
    "# Algoritmos de predicción uni-salida\n",
    "## (Tamaño)"
   ]
  },
  {
   "cell_type": "markdown",
   "metadata": {},
   "source": [
    "## Kneighbots"
   ]
  },
  {
   "cell_type": "code",
   "execution_count": 23,
   "metadata": {},
   "outputs": [
    {
     "name": "stdout",
     "output_type": "stream",
     "text": [
      "0.950877066339421\n"
     ]
    }
   ],
   "source": [
    "t_pred_knn = KNeighborsClassifier().fit(X_t_train, Y_t_train)\n",
    "print(t_pred_knn.score(X_t_train, Y_t_train))"
   ]
  },
  {
   "cell_type": "markdown",
   "metadata": {},
   "source": [
    "## Decision Tree Classifier"
   ]
  },
  {
   "cell_type": "code",
   "execution_count": 24,
   "metadata": {},
   "outputs": [
    {
     "name": "stdout",
     "output_type": "stream",
     "text": [
      "0.9862484660362376\n"
     ]
    }
   ],
   "source": [
    "t_pred_dtc = DecisionTreeClassifier().fit(X_t_train, Y_t_train)\n",
    "print(t_pred_dtc.score(X_t_train, Y_t_train))"
   ]
  },
  {
   "cell_type": "markdown",
   "metadata": {},
   "source": [
    "# Guardar modelos\n",
    "Para almacenar un modelo de prediccion se utiliza la librería `joblib` con el modelo que nos generara mejor nivel de calificación "
   ]
  },
  {
   "cell_type": "code",
   "execution_count": 25,
   "metadata": {},
   "outputs": [
    {
     "data": {
      "text/plain": [
       "['Multioutput_model.sav']"
      ]
     },
     "execution_count": 25,
     "metadata": {},
     "output_type": "execute_result"
    }
   ],
   "source": [
    "filename = 'Multioutput_model.sav'\n",
    "joblib.dump(mtf, filename)"
   ]
  },
  {
   "cell_type": "code",
   "execution_count": 26,
   "metadata": {},
   "outputs": [
    {
     "data": {
      "text/plain": [
       "['altura_model.sav']"
      ]
     },
     "execution_count": 26,
     "metadata": {},
     "output_type": "execute_result"
    }
   ],
   "source": [
    "filename = 'altura_model.sav'\n",
    "joblib.dump(t_pred_dtc, filename)"
   ]
  },
  {
   "cell_type": "code",
   "execution_count": 27,
   "metadata": {},
   "outputs": [
    {
     "data": {
      "text/plain": [
       "['Peso_model.sav']"
      ]
     },
     "execution_count": 27,
     "metadata": {},
     "output_type": "execute_result"
    }
   ],
   "source": [
    "filename = 'Peso_model.sav'\n",
    "joblib.dump(p_pred_dtc, filename)"
   ]
  },
  {
   "cell_type": "markdown",
   "metadata": {},
   "source": [
    "# Cargar Modelos\n",
    "Cuando cargamos los modelos ya entrenados se busca evitar estar corriendo el codigo constante mente y unicamente se use para realizar predicciones"
   ]
  },
  {
   "cell_type": "code",
   "execution_count": 28,
   "metadata": {},
   "outputs": [],
   "source": [
    "Multioutput_model = joblib.load('Multioutput_model.sav')\n",
    "altura_model = joblib.load('altura_model.sav')\n",
    "peso_model = joblib.load('Peso_model.sav')\n"
   ]
  },
  {
   "cell_type": "markdown",
   "metadata": {},
   "source": [
    "# Pruebas\n",
    "En esta sección, se busca realizar las predicciones con los modelos cargados.\n",
    "\n",
    "En nuestro caso, las predicciones se harán a los datos de prueba (`X_test`) de la misma forma en que hizo en secciones anteriores. \n"
   ]
  },
  {
   "cell_type": "code",
   "execution_count": 29,
   "metadata": {},
   "outputs": [],
   "source": [
    "datos = df[['Nacio', 'Sexo','Leyp', 'grocupad', 'edmadrec', 'grocumad', 'IU', 'Mesesemb', 'Hijosten', 'Abortos', 'Medcons']]\n",
    "X_train, X_test, y_train, y_test = train_test_split(datos,multi_salida,test_size = 0.2, random_state=42)\n",
    "X_p_train, X_p_test, Y_p_train, Y_p_test = train_test_split(datos,peso,test_size = 0.2, random_state=42)\n",
    "X_t_train, X_t_test, Y_t_train, Y_t_test = train_test_split(datos,tamaño,test_size = 0.2, random_state=42)"
   ]
  },
  {
   "cell_type": "markdown",
   "metadata": {},
   "source": [
    "## Multi-salida\n",
    "Se va a declarar una variable llamada `prueba`, con una muestra de tan solo 3 filas de datos de multiple salida"
   ]
  },
  {
   "cell_type": "code",
   "execution_count": 30,
   "metadata": {},
   "outputs": [
    {
     "data": {
      "text/html": [
       "<div>\n",
       "<style scoped>\n",
       "    .dataframe tbody tr th:only-of-type {\n",
       "        vertical-align: middle;\n",
       "    }\n",
       "\n",
       "    .dataframe tbody tr th {\n",
       "        vertical-align: top;\n",
       "    }\n",
       "\n",
       "    .dataframe thead th {\n",
       "        text-align: right;\n",
       "    }\n",
       "</style>\n",
       "<table border=\"1\" class=\"dataframe\">\n",
       "  <thead>\n",
       "    <tr style=\"text-align: right;\">\n",
       "      <th></th>\n",
       "      <th>Nacio</th>\n",
       "      <th>Sexo</th>\n",
       "      <th>Leyp</th>\n",
       "      <th>grocupad</th>\n",
       "      <th>edmadrec</th>\n",
       "      <th>grocumad</th>\n",
       "      <th>IU</th>\n",
       "      <th>Mesesemb</th>\n",
       "      <th>Hijosten</th>\n",
       "      <th>Abortos</th>\n",
       "      <th>Medcons</th>\n",
       "    </tr>\n",
       "  </thead>\n",
       "  <tbody>\n",
       "    <tr>\n",
       "      <th>50298</th>\n",
       "      <td>Solo</td>\n",
       "      <td>Hombre</td>\n",
       "      <td>Madre casada o padre presente</td>\n",
       "      <td>Técnicos y profesionales de nivel medio</td>\n",
       "      <td>30 - 34</td>\n",
       "      <td>Profesionales científicas e intelectuales</td>\n",
       "      <td>Urbano</td>\n",
       "      <td>9</td>\n",
       "      <td>3.0</td>\n",
       "      <td>0</td>\n",
       "      <td>7</td>\n",
       "    </tr>\n",
       "    <tr>\n",
       "      <th>26478</th>\n",
       "      <td>Solo</td>\n",
       "      <td>Hombre</td>\n",
       "      <td>Madre casada o padre presente</td>\n",
       "      <td>Ocupaciones elementales</td>\n",
       "      <td>30 - 34</td>\n",
       "      <td>Oficiales, operarias y artesanas de artes mecá...</td>\n",
       "      <td>Urbano</td>\n",
       "      <td>9</td>\n",
       "      <td>2.0</td>\n",
       "      <td>0</td>\n",
       "      <td>6</td>\n",
       "    </tr>\n",
       "    <tr>\n",
       "      <th>16734</th>\n",
       "      <td>Solo</td>\n",
       "      <td>Hombre</td>\n",
       "      <td>Padre no declarado</td>\n",
       "      <td>Padre no declarado</td>\n",
       "      <td>20 - 24</td>\n",
       "      <td>Estudiante</td>\n",
       "      <td>Predominantemente rural</td>\n",
       "      <td>9</td>\n",
       "      <td>1.0</td>\n",
       "      <td>0</td>\n",
       "      <td>4</td>\n",
       "    </tr>\n",
       "  </tbody>\n",
       "</table>\n",
       "</div>"
      ],
      "text/plain": [
       "      Nacio    Sexo                           Leyp  \\\n",
       "50298  Solo  Hombre  Madre casada o padre presente   \n",
       "26478  Solo  Hombre  Madre casada o padre presente   \n",
       "16734  Solo  Hombre             Padre no declarado   \n",
       "\n",
       "                                      grocupad edmadrec  \\\n",
       "50298  Técnicos y profesionales de nivel medio  30 - 34   \n",
       "26478                  Ocupaciones elementales  30 - 34   \n",
       "16734                       Padre no declarado  20 - 24   \n",
       "\n",
       "                                                grocumad  \\\n",
       "50298          Profesionales científicas e intelectuales   \n",
       "26478  Oficiales, operarias y artesanas de artes mecá...   \n",
       "16734                                         Estudiante   \n",
       "\n",
       "                            IU Mesesemb Hijosten Abortos Medcons  \n",
       "50298                   Urbano        9      3.0       0       7  \n",
       "26478                   Urbano        9      2.0       0       6  \n",
       "16734  Predominantemente rural        9      1.0       0       4  "
      ]
     },
     "execution_count": 30,
     "metadata": {},
     "output_type": "execute_result"
    }
   ],
   "source": [
    "prueba = X_test.sample(n=3, random_state=1)\n",
    "prueba"
   ]
  },
  {
   "cell_type": "markdown",
   "metadata": {},
   "source": [
    "Se va a declarar una variable llamada `prueba_t`, la cual sera nuestra respuesta a la muestra"
   ]
  },
  {
   "cell_type": "code",
   "execution_count": 31,
   "metadata": {},
   "outputs": [
    {
     "data": {
      "text/html": [
       "<div>\n",
       "<style scoped>\n",
       "    .dataframe tbody tr th:only-of-type {\n",
       "        vertical-align: middle;\n",
       "    }\n",
       "\n",
       "    .dataframe tbody tr th {\n",
       "        vertical-align: top;\n",
       "    }\n",
       "\n",
       "    .dataframe thead th {\n",
       "        text-align: right;\n",
       "    }\n",
       "</style>\n",
       "<table border=\"1\" class=\"dataframe\">\n",
       "  <thead>\n",
       "    <tr style=\"text-align: right;\">\n",
       "      <th></th>\n",
       "      <th>pesorec</th>\n",
       "      <th>estrec</th>\n",
       "    </tr>\n",
       "  </thead>\n",
       "  <tbody>\n",
       "    <tr>\n",
       "      <th>50298</th>\n",
       "      <td>3500 y más</td>\n",
       "      <td>45 - 54</td>\n",
       "    </tr>\n",
       "    <tr>\n",
       "      <th>26478</th>\n",
       "      <td>3000 - 3400</td>\n",
       "      <td>45 - 54</td>\n",
       "    </tr>\n",
       "    <tr>\n",
       "      <th>16734</th>\n",
       "      <td>2500 - 2999</td>\n",
       "      <td>45 - 54</td>\n",
       "    </tr>\n",
       "  </tbody>\n",
       "</table>\n",
       "</div>"
      ],
      "text/plain": [
       "           pesorec   estrec\n",
       "50298   3500 y más  45 - 54\n",
       "26478  3000 - 3400  45 - 54\n",
       "16734  2500 - 2999  45 - 54"
      ]
     },
     "execution_count": 31,
     "metadata": {},
     "output_type": "execute_result"
    }
   ],
   "source": [
    "prueba_t = y_test.sample(n=3, random_state=1)\n",
    "prueba_t"
   ]
  },
  {
   "cell_type": "code",
   "execution_count": 32,
   "metadata": {},
   "outputs": [],
   "source": [
    "prueba = pd.get_dummies(prueba, drop_first=True)"
   ]
  },
  {
   "cell_type": "markdown",
   "metadata": {},
   "source": [
    "El resultado se proyectara a continuación"
   ]
  },
  {
   "cell_type": "code",
   "execution_count": 33,
   "metadata": {},
   "outputs": [
    {
     "data": {
      "text/plain": [
       "array([['3000 - 3400', '45 - 54'],\n",
       "       ['2000 - 2499', '45 - 54'],\n",
       "       ['3000 - 3400', '45 - 54']], dtype=object)"
      ]
     },
     "execution_count": 33,
     "metadata": {},
     "output_type": "execute_result"
    }
   ],
   "source": [
    "Multioutput_model.predict(prueba)"
   ]
  },
  {
   "cell_type": "markdown",
   "metadata": {},
   "source": [
    "## Una salida\n",
    "De igual forma se va a preparar un set de pruebas para las predicciones de una sola variable al igual como se realizó anteriormente.\n",
    "\n",
    "Para esta prueba la variable se llamada `Prueba_peso` con una muestra de tan solo 3 filas de datos"
   ]
  },
  {
   "cell_type": "code",
   "execution_count": 34,
   "metadata": {},
   "outputs": [
    {
     "data": {
      "text/html": [
       "<div>\n",
       "<style scoped>\n",
       "    .dataframe tbody tr th:only-of-type {\n",
       "        vertical-align: middle;\n",
       "    }\n",
       "\n",
       "    .dataframe tbody tr th {\n",
       "        vertical-align: top;\n",
       "    }\n",
       "\n",
       "    .dataframe thead th {\n",
       "        text-align: right;\n",
       "    }\n",
       "</style>\n",
       "<table border=\"1\" class=\"dataframe\">\n",
       "  <thead>\n",
       "    <tr style=\"text-align: right;\">\n",
       "      <th></th>\n",
       "      <th>Nacio</th>\n",
       "      <th>Sexo</th>\n",
       "      <th>Leyp</th>\n",
       "      <th>grocupad</th>\n",
       "      <th>edmadrec</th>\n",
       "      <th>grocumad</th>\n",
       "      <th>IU</th>\n",
       "      <th>Mesesemb</th>\n",
       "      <th>Hijosten</th>\n",
       "      <th>Abortos</th>\n",
       "      <th>Medcons</th>\n",
       "    </tr>\n",
       "  </thead>\n",
       "  <tbody>\n",
       "    <tr>\n",
       "      <th>50298</th>\n",
       "      <td>Solo</td>\n",
       "      <td>Hombre</td>\n",
       "      <td>Madre casada o padre presente</td>\n",
       "      <td>Técnicos y profesionales de nivel medio</td>\n",
       "      <td>30 - 34</td>\n",
       "      <td>Profesionales científicas e intelectuales</td>\n",
       "      <td>Urbano</td>\n",
       "      <td>9</td>\n",
       "      <td>3.0</td>\n",
       "      <td>0</td>\n",
       "      <td>7</td>\n",
       "    </tr>\n",
       "    <tr>\n",
       "      <th>26478</th>\n",
       "      <td>Solo</td>\n",
       "      <td>Hombre</td>\n",
       "      <td>Madre casada o padre presente</td>\n",
       "      <td>Ocupaciones elementales</td>\n",
       "      <td>30 - 34</td>\n",
       "      <td>Oficiales, operarias y artesanas de artes mecá...</td>\n",
       "      <td>Urbano</td>\n",
       "      <td>9</td>\n",
       "      <td>2.0</td>\n",
       "      <td>0</td>\n",
       "      <td>6</td>\n",
       "    </tr>\n",
       "    <tr>\n",
       "      <th>16734</th>\n",
       "      <td>Solo</td>\n",
       "      <td>Hombre</td>\n",
       "      <td>Padre no declarado</td>\n",
       "      <td>Padre no declarado</td>\n",
       "      <td>20 - 24</td>\n",
       "      <td>Estudiante</td>\n",
       "      <td>Predominantemente rural</td>\n",
       "      <td>9</td>\n",
       "      <td>1.0</td>\n",
       "      <td>0</td>\n",
       "      <td>4</td>\n",
       "    </tr>\n",
       "  </tbody>\n",
       "</table>\n",
       "</div>"
      ],
      "text/plain": [
       "      Nacio    Sexo                           Leyp  \\\n",
       "50298  Solo  Hombre  Madre casada o padre presente   \n",
       "26478  Solo  Hombre  Madre casada o padre presente   \n",
       "16734  Solo  Hombre             Padre no declarado   \n",
       "\n",
       "                                      grocupad edmadrec  \\\n",
       "50298  Técnicos y profesionales de nivel medio  30 - 34   \n",
       "26478                  Ocupaciones elementales  30 - 34   \n",
       "16734                       Padre no declarado  20 - 24   \n",
       "\n",
       "                                                grocumad  \\\n",
       "50298          Profesionales científicas e intelectuales   \n",
       "26478  Oficiales, operarias y artesanas de artes mecá...   \n",
       "16734                                         Estudiante   \n",
       "\n",
       "                            IU Mesesemb Hijosten Abortos Medcons  \n",
       "50298                   Urbano        9      3.0       0       7  \n",
       "26478                   Urbano        9      2.0       0       6  \n",
       "16734  Predominantemente rural        9      1.0       0       4  "
      ]
     },
     "execution_count": 34,
     "metadata": {},
     "output_type": "execute_result"
    }
   ],
   "source": [
    "Prueba_peso = X_p_test.sample(n=3, random_state=1)\n",
    "Prueba_peso"
   ]
  },
  {
   "cell_type": "code",
   "execution_count": 35,
   "metadata": {},
   "outputs": [
    {
     "data": {
      "text/plain": [
       "50298     3500 y más\n",
       "26478    3000 - 3400\n",
       "16734    2500 - 2999\n",
       "Name: pesorec, dtype: category\n",
       "Categories (9, object): ['1000 - 1499', '1500 - 1999', '2000 - 2499', '2500 - 2999', ..., '3500 y más', '500 - 999', 'Ignorado', 'Menos de 500']"
      ]
     },
     "execution_count": 35,
     "metadata": {},
     "output_type": "execute_result"
    }
   ],
   "source": [
    "prueba_p = Y_p_test.sample(n=3, random_state=1)\n",
    "prueba_p"
   ]
  },
  {
   "cell_type": "code",
   "execution_count": 36,
   "metadata": {},
   "outputs": [],
   "source": [
    "Prueba_peso = pd.get_dummies(Prueba_peso, drop_first=True)"
   ]
  },
  {
   "cell_type": "code",
   "execution_count": 37,
   "metadata": {
    "scrolled": true
   },
   "outputs": [
    {
     "data": {
      "text/plain": [
       "array(['3000 - 3400', '2000 - 2499', '3000 - 3400'], dtype=object)"
      ]
     },
     "execution_count": 37,
     "metadata": {},
     "output_type": "execute_result"
    }
   ],
   "source": [
    "peso_model.predict(Prueba_peso)"
   ]
  },
  {
   "cell_type": "markdown",
   "metadata": {},
   "source": [
    "Para esta prueba la variable se llamada `Prueba_tamano` con una muestra de tan solo 3 filas de datos"
   ]
  },
  {
   "cell_type": "code",
   "execution_count": 38,
   "metadata": {},
   "outputs": [
    {
     "data": {
      "text/html": [
       "<div>\n",
       "<style scoped>\n",
       "    .dataframe tbody tr th:only-of-type {\n",
       "        vertical-align: middle;\n",
       "    }\n",
       "\n",
       "    .dataframe tbody tr th {\n",
       "        vertical-align: top;\n",
       "    }\n",
       "\n",
       "    .dataframe thead th {\n",
       "        text-align: right;\n",
       "    }\n",
       "</style>\n",
       "<table border=\"1\" class=\"dataframe\">\n",
       "  <thead>\n",
       "    <tr style=\"text-align: right;\">\n",
       "      <th></th>\n",
       "      <th>Nacio</th>\n",
       "      <th>Sexo</th>\n",
       "      <th>Leyp</th>\n",
       "      <th>grocupad</th>\n",
       "      <th>edmadrec</th>\n",
       "      <th>grocumad</th>\n",
       "      <th>IU</th>\n",
       "      <th>Mesesemb</th>\n",
       "      <th>Hijosten</th>\n",
       "      <th>Abortos</th>\n",
       "      <th>Medcons</th>\n",
       "    </tr>\n",
       "  </thead>\n",
       "  <tbody>\n",
       "    <tr>\n",
       "      <th>50298</th>\n",
       "      <td>Solo</td>\n",
       "      <td>Hombre</td>\n",
       "      <td>Madre casada o padre presente</td>\n",
       "      <td>Técnicos y profesionales de nivel medio</td>\n",
       "      <td>30 - 34</td>\n",
       "      <td>Profesionales científicas e intelectuales</td>\n",
       "      <td>Urbano</td>\n",
       "      <td>9</td>\n",
       "      <td>3.0</td>\n",
       "      <td>0</td>\n",
       "      <td>7</td>\n",
       "    </tr>\n",
       "    <tr>\n",
       "      <th>26478</th>\n",
       "      <td>Solo</td>\n",
       "      <td>Hombre</td>\n",
       "      <td>Madre casada o padre presente</td>\n",
       "      <td>Ocupaciones elementales</td>\n",
       "      <td>30 - 34</td>\n",
       "      <td>Oficiales, operarias y artesanas de artes mecá...</td>\n",
       "      <td>Urbano</td>\n",
       "      <td>9</td>\n",
       "      <td>2.0</td>\n",
       "      <td>0</td>\n",
       "      <td>6</td>\n",
       "    </tr>\n",
       "    <tr>\n",
       "      <th>16734</th>\n",
       "      <td>Solo</td>\n",
       "      <td>Hombre</td>\n",
       "      <td>Padre no declarado</td>\n",
       "      <td>Padre no declarado</td>\n",
       "      <td>20 - 24</td>\n",
       "      <td>Estudiante</td>\n",
       "      <td>Predominantemente rural</td>\n",
       "      <td>9</td>\n",
       "      <td>1.0</td>\n",
       "      <td>0</td>\n",
       "      <td>4</td>\n",
       "    </tr>\n",
       "  </tbody>\n",
       "</table>\n",
       "</div>"
      ],
      "text/plain": [
       "      Nacio    Sexo                           Leyp  \\\n",
       "50298  Solo  Hombre  Madre casada o padre presente   \n",
       "26478  Solo  Hombre  Madre casada o padre presente   \n",
       "16734  Solo  Hombre             Padre no declarado   \n",
       "\n",
       "                                      grocupad edmadrec  \\\n",
       "50298  Técnicos y profesionales de nivel medio  30 - 34   \n",
       "26478                  Ocupaciones elementales  30 - 34   \n",
       "16734                       Padre no declarado  20 - 24   \n",
       "\n",
       "                                                grocumad  \\\n",
       "50298          Profesionales científicas e intelectuales   \n",
       "26478  Oficiales, operarias y artesanas de artes mecá...   \n",
       "16734                                         Estudiante   \n",
       "\n",
       "                            IU Mesesemb Hijosten Abortos Medcons  \n",
       "50298                   Urbano        9      3.0       0       7  \n",
       "26478                   Urbano        9      2.0       0       6  \n",
       "16734  Predominantemente rural        9      1.0       0       4  "
      ]
     },
     "execution_count": 38,
     "metadata": {},
     "output_type": "execute_result"
    }
   ],
   "source": [
    "Prueba_tamano = X_t_test.sample(n=3, random_state=1)\n",
    "Prueba_tamano"
   ]
  },
  {
   "cell_type": "code",
   "execution_count": 39,
   "metadata": {},
   "outputs": [
    {
     "data": {
      "text/plain": [
       "50298    45 - 54\n",
       "26478    45 - 54\n",
       "16734    45 - 54\n",
       "Name: estrec, dtype: category\n",
       "Categories (6, object): ['15 - 24', '25 - 34', '35 - 44', '45 - 54', '55 y más', 'Ignorada']"
      ]
     },
     "execution_count": 39,
     "metadata": {},
     "output_type": "execute_result"
    }
   ],
   "source": [
    "Prueba_t = Y_t_test.sample(n=3, random_state=1)\n",
    "Prueba_t"
   ]
  },
  {
   "cell_type": "code",
   "execution_count": 40,
   "metadata": {},
   "outputs": [],
   "source": [
    "Prueba_tamano = pd.get_dummies(Prueba_tamano, drop_first=True)"
   ]
  },
  {
   "cell_type": "code",
   "execution_count": 41,
   "metadata": {},
   "outputs": [
    {
     "data": {
      "text/plain": [
       "array(['45 - 54', '45 - 54', '45 - 54'], dtype=object)"
      ]
     },
     "execution_count": 41,
     "metadata": {},
     "output_type": "execute_result"
    }
   ],
   "source": [
    "altura_model.predict(Prueba_tamano)"
   ]
  },
  {
   "cell_type": "markdown",
   "metadata": {},
   "source": [
    "# Conclusiones"
   ]
  },
  {
   "cell_type": "markdown",
   "metadata": {},
   "source": [
    "La detección temprana de posibles problemas de salud en los niños conlleva a trabajar en el cuidado de la madre, tal como, su estilo de vida, es decir, su entorno, alimentación, descanso entre otros; previo al nacimiento del infant, pues esto podria contribuir a que el niño nazca sano o que se pueda tomar un control del mismo al momento de su nacimiento.\n",
    "\n",
    "En nuestro proyecto se trabajo unicamente con los datos proporcionador por INEC, en donde se logro predecir el peso y la altura de un bebé basado en rangos, los cuales se categorizaron como un bebé de bajo, normal y alto peso, así también como fue el caso del tamaño: pequeño, normal y grande.\n",
    "\n",
    "Las pruebas que se realizaron para la demostración fue una muestra que se tomo de forma aleatoria de los datos de prueba dando un resultado positivo, pues la predicción calzaba con el resultado que ya se tenia.\n",
    "\n",
    "Luego de haber realizado todo este proyecto se llega a intuir la importancia de trabajar con predicción de datos basado en algoritmos de predicción, pues con ellos se puede generar un excelente aporte.\n",
    "\n",
    "\n"
   ]
  }
 ],
 "metadata": {
  "colab": {
   "name": "Visualizacion.ipynb",
   "provenance": []
  },
  "kernelspec": {
   "display_name": "Python 3",
   "language": "python",
   "name": "python3"
  },
  "language_info": {
   "codemirror_mode": {
    "name": "ipython",
    "version": 3
   },
   "file_extension": ".py",
   "mimetype": "text/x-python",
   "name": "python",
   "nbconvert_exporter": "python",
   "pygments_lexer": "ipython3",
   "version": "3.7.3"
  }
 },
 "nbformat": 4,
 "nbformat_minor": 1
}
